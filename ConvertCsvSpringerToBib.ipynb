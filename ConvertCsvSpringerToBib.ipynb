{
  "nbformat": 4,
  "nbformat_minor": 0,
  "metadata": {
    "colab": {
      "name": "ConvertCsvSpringerToBib.ipynb",
      "provenance": [],
      "collapsed_sections": [
        "oo3L-dBLsylr"
      ],
      "authorship_tag": "ABX9TyMExRNmk5K+pBDbfvTmW4AR",
      "include_colab_link": true
    },
    "kernelspec": {
      "name": "python3",
      "display_name": "Python 3"
    },
    "language_info": {
      "name": "python"
    }
  },
  "cells": [
    {
      "cell_type": "markdown",
      "metadata": {
        "id": "view-in-github",
        "colab_type": "text"
      },
      "source": [
        "<a href=\"https://colab.research.google.com/github/tpipernob/ConvertCsvSpringerToBib/blob/main/ConvertCsvSpringerToBib.ipynb\" target=\"_parent\"><img src=\"https://colab.research.google.com/assets/colab-badge.svg\" alt=\"Open In Colab\"/></a>"
      ]
    },
    {
      "cell_type": "markdown",
      "metadata": {
        "id": "LxNAd3vgiXIk"
      },
      "source": [
        "**Step 1**: Add the csv file on google collab with the name \"springer.csv\"\n",
        "\n",
        "**Step 2**: Play on all codes in the order they are arranged\n",
        "\n",
        "**Result**: A file named springer.bib will be generated with the result\n",
        "\n",
        "If it is necessary to generate another bib file, just rerun the \"Generating the bib\" section."
      ]
    },
    {
      "cell_type": "markdown",
      "metadata": {
        "id": "AxrAjOHmsIHp"
      },
      "source": [
        "# Installing and Important Libraries"
      ]
    },
    {
      "cell_type": "code",
      "metadata": {
        "id": "da34SpmRsMe9"
      },
      "source": [
        "!pip install furl\n",
        "!pip install selenium\n",
        "!apt-get update # to update ubuntu to correctly run apt install\n",
        "!apt install chromium-chromedriver\n",
        "!cp /usr/lib/chromium-browser/chromedriver /usr/bin\n",
        "\n",
        "import os\n",
        "\n",
        "\n",
        "import pandas as pd\n",
        "import bs4\n",
        "from bs4 import BeautifulSoup\n",
        "import sys\n",
        "\n",
        "sys.path.insert(0,'/usr/lib/chromium-browser/chromedriver')\n",
        "from selenium import webdriver\n",
        "from selenium.webdriver.support.ui import WebDriverWait\n",
        "from lxml.html.soupparser import fromstring\n",
        "from sys import argv, exit\n",
        "from math import isnan"
      ],
      "execution_count": null,
      "outputs": []
    },
    {
      "cell_type": "markdown",
      "metadata": {
        "id": "oo3L-dBLsylr"
      },
      "source": [
        "# Capturing source code"
      ]
    },
    {
      "cell_type": "code",
      "metadata": {
        "id": "i936H8f9tB04"
      },
      "source": [
        "def captureSourceCode(url):\n",
        "  url = url\n",
        "\n",
        "  chrome_options = webdriver.ChromeOptions()\n",
        "  chrome_options.add_argument('--headless')\n",
        "  chrome_options.add_argument('--no-sandbox')\n",
        "  chrome_options.add_argument('--disable-dev-shm-usage')\n",
        "\n",
        "  browser = webdriver.Chrome('chromedriver',options=chrome_options)\n",
        "  browser.get(url)\n",
        "  \n",
        "  sourceCode = BeautifulSoup(browser.page_source, \"html.parser\")\n",
        " \n",
        "  return(sourceCode)"
      ],
      "execution_count": null,
      "outputs": []
    },
    {
      "cell_type": "markdown",
      "metadata": {
        "id": "PoK2ARYducND"
      },
      "source": [
        "# Finding the Abstract"
      ]
    },
    {
      "cell_type": "code",
      "metadata": {
        "id": "ksGc0lj8ufW2"
      },
      "source": [
        "def findAbstract(sourceCode):\n",
        "  \n",
        "  if (sourceCode.find(id='Par1')):         \n",
        "    resultAbstract = sourceCode.find(id='Par1').text    \n",
        "    \n",
        "  elif (sourceCode.find(\"div\", {\"id\": \"Abs1-content\"})):          \n",
        "    abstract = sourceCode.find(\"div\", {\"id\": \"Abs1-content\"}).select(\"p\")[0]\n",
        "    resultAbstract = abstract.text   \n",
        "    \n",
        "  elif (sourceCode.find(\"section\", {\"id\": \"Abs1\"})):       \n",
        "    abstract = sourceCode.find(\"section\", {\"id\": \"Abs1\"}).select(\"p\")[0]\n",
        "    resultAbstract = abstract.text    \n",
        "    \n",
        "  else:        \n",
        "    resultAbstract = \" \" \n",
        "  \n",
        "  return resultAbstract"
      ],
      "execution_count": null,
      "outputs": []
    },
    {
      "cell_type": "markdown",
      "metadata": {
        "id": "diuJmRfc5LTZ"
      },
      "source": [
        "# Finding the keywords"
      ]
    },
    {
      "cell_type": "code",
      "metadata": {
        "id": "drh7Ic4G5NKn"
      },
      "source": [
        "def findKeywords(sourceCode, contentType):\n",
        "\n",
        "  keywords = [] \n",
        "\n",
        "  if (contentType == \"Article\"):\n",
        "    returnKeywords = sourceCode.find_all(\"span\", {\"itemprop\": \"about\"})  \n",
        "  else:  \n",
        "    returnKeywords = sourceCode.find_all(\"span\", {\"class\": \"Keyword\"})   \n",
        "\n",
        "  for keyword in returnKeywords:        \n",
        "    keyword = keyword.get_text(strip=True)    \n",
        "    keywords.append(keyword)\n",
        "\n",
        "  return keywords"
      ],
      "execution_count": null,
      "outputs": []
    },
    {
      "cell_type": "markdown",
      "metadata": {
        "id": "WxfACdxCsOEd"
      },
      "source": [
        "# Generating the bib"
      ]
    },
    {
      "cell_type": "code",
      "metadata": {
        "id": "lbhsm-_rlhsx"
      },
      "source": [
        "'''\n",
        "Step 1: Add the csv file on google collab with the name \"springer.csv\"\n",
        "Step 2: Play on all codes in the order they are arranged\n",
        "A file named springer.bib will be generated with the result\n",
        "'''\n",
        "\n",
        "class BibEntry(object):\n",
        "    def __init__(self):\n",
        "        self.Item_Title = None\n",
        "        self.Publication_Title = None\n",
        "        self.Book_Series_Title = None\n",
        "        self.Journal_Volume = None\n",
        "        self.Journal_Issue = None\n",
        "        self.Item_DOI = None\n",
        "        self.Authors = None\n",
        "        self.Publication_Year = None\n",
        "        self.URL = None\n",
        "        self.Content_Type = None\n",
        "        self.Keywords = None\n",
        "        self.Abstract = None\n",
        "\n",
        "    def generateBib(self, header_id: str) -> str:\n",
        "        \n",
        "        #create tiltle\n",
        "        initialTitle = self.Item_Title.split()[:2] #the first two words of the title\n",
        "        initialTitle = \"\".join(map(str, initialTitle)).replace(\",\",\"\") #if it exists, remove commas                 \n",
        "        \n",
        "        #header according to document type\n",
        "        if (self.Content_Type == \"Article\" or self.Content_Type == \"Chapter\"):\n",
        "            header = \"@article{\"+header_id+\"_\"+initialTitle+\",\\n\\t\"\n",
        "        elif(self.Content_Type == \"Book\" or self.Content_Type == \"ReferenceWork\"):\n",
        "            header = \"@book{\"+header_id+\"_\"+initialTitle+\",\\n\\t\" \n",
        "        else:\n",
        "            header = \"@article{\"+header_id+\"_\"+initialTitle+\",\\n\\t\"\n",
        "        \n",
        "        #general data\n",
        "        author = \"author = {\"+self.Authors+\"},\\n\\t\"\n",
        "        title = \"title = {\"+self.Item_Title+\"},\\n\\t\"\n",
        "        journal_book = \"journal = {\"+self.Publication_Title+\"},\\n\\t\"\n",
        "        volume = \"volume = {\"+str(self.Journal_Volume)+\"},\\n\\t\"\n",
        "        number = \"number = {\"+str(self.Journal_Issue)+\"},\\n\\t\"\n",
        "        year = \"year = {\"+str(self.Publication_Year)+\"},\\n\\t\"\n",
        "        url = \"url = {\"+str(self.URL)+\"},\\n\\t\"\n",
        "        doi = \"doi = {\"+str(self.Item_DOI)+\"},\\n\\t\"\n",
        "        document_type = \"document_type = {\"+str(self.Content_Type)+\"},\\n\\t\" \n",
        "\n",
        "        #scraping data \n",
        "        keywords = \"keywords = {\"+str(self.Keywords)+\"},\\n\\t\"        \n",
        "        abstract = \"abstract = {\"+str(self.Abstract)+\"},\\n}\\n\\n\"\n",
        "\n",
        "        return header+author+title+journal_book+volume+number+year+url+keywords+document_type+doi+abstract\n",
        "\n",
        "\n",
        "def _getBibEntries(filepath: str) -> list:\n",
        "    if os.path.exists(filepath):\n",
        "\n",
        "        bibEntries = []\n",
        "        springer_csv = pd.read_csv(filepath)\n",
        "        springer_csv.fillna('', inplace=True)        \n",
        "\n",
        "        for index, row in springer_csv.iterrows():\n",
        "\n",
        "            url = row['URL']\n",
        "            contentType = row['Content Type']\n",
        "\n",
        "            #get the complete code from the job page\n",
        "            sourceCode = captureSourceCode(url)\n",
        "\n",
        "            abstractScrapping = findAbstract(sourceCode)\n",
        "\n",
        "            keywordsScrapping = findKeywords(sourceCode, contentType)\n",
        "            stringKeywords = ', '.join(keywordsScrapping)                   \n",
        "\n",
        "            bibEntry = BibEntry()\n",
        "            bibEntry.Authors = row['Authors']\n",
        "            bibEntry.Book_Series_Title = row['Book Series Title']\n",
        "            bibEntry.Content_Type = row['Content Type']\n",
        "            bibEntry.Item_DOI = row['Item DOI']\n",
        "            bibEntry.Item_Title = row['Item Title']\n",
        "            bibEntry.Journal_Issue = row['Journal Issue']\n",
        "            bibEntry.Journal_Volume = row['Journal Volume']\n",
        "            bibEntry.Publication_Title = row['Publication Title']\n",
        "            bibEntry.Publication_Year = row['Publication Year']\n",
        "            bibEntry.URL = row['URL']\n",
        "\n",
        "            bibEntry.Keywords = stringKeywords\n",
        "            bibEntry.Abstract = abstractScrapping           \n",
        "\n",
        "            bibEntries.append(bibEntry.generateBib(str(index)))\n",
        "\n",
        "        return bibEntries\n",
        "    else:\n",
        "        print(\"{0} not found!\".format(filepath))\n",
        "        return []\n",
        "\n",
        "\n",
        "def convertCsvToBib(filepath: str) -> bool:\n",
        "        \n",
        "    bibEntries = _getBibEntries(filepath)\n",
        "    bibFile = filepath.split(\".\")[0] + \".bib\"\n",
        "\n",
        "    for bib in bibEntries:      \n",
        "      with open(bibFile, 'a', encoding=\"utf-8\") as f:\n",
        "        f.write(bib)\n",
        "\n",
        "\n",
        "try:\n",
        "    filepath = 'springer.csv'\n",
        "except:    \n",
        "    exit(0)\n",
        "convertCsvToBib(filepath)"
      ],
      "execution_count": null,
      "outputs": []
    },
    {
      "cell_type": "markdown",
      "metadata": {
        "id": "BwSub-jKsDEG"
      },
      "source": [
        ""
      ]
    }
  ]
}